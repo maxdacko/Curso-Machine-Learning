{
 "cells": [
  {
   "cell_type": "code",
   "execution_count": 3,
   "metadata": {},
   "outputs": [
    {
     "ename": "SyntaxError",
     "evalue": "invalid syntax (<ipython-input-3-749ad48820ec>, line 3)",
     "output_type": "error",
     "traceback": [
      "\u001b[1;36m  File \u001b[1;32m\"<ipython-input-3-749ad48820ec>\"\u001b[1;36m, line \u001b[1;32m3\u001b[0m\n\u001b[1;33m    python -m pip install --upgrade https://storage.googleapis.com/tensorflow/mac/cpu/tensorflow-2.0.0-py3-none-any.whl\u001b[0m\n\u001b[1;37m              ^\u001b[0m\n\u001b[1;31mSyntaxError\u001b[0m\u001b[1;31m:\u001b[0m invalid syntax\n"
     ]
    }
   ],
   "source": [
    "#!pip install tensorflow==2.0.0-alpha0\n",
    "#!pip install opencv-python\n",
    "pip install --upgrade https://storage.googleapis.com/tensorflow/mac/cpu/tensorflow-2.0.0-py3-none-any.whl\n"
   ]
  },
  {
   "cell_type": "code",
   "execution_count": 2,
   "metadata": {},
   "outputs": [
    {
     "name": "stdout",
     "output_type": "stream",
     "text": [
      "2.5.0\n"
     ]
    }
   ],
   "source": [
    "from __future__ import absolute_import, division, print_function, unicode_literals\n",
    "import os\n",
    "\n",
    "# Importamos TF2 y Keras\n",
    "import tensorflow as tf\n",
    "from tensorflow import keras\n",
    "\n",
    "#Usaremos datetime para nombrar archivos\n",
    "import datetime\n",
    "\n",
    "import numpy as np\n",
    "import matplotlib.pyplot as plt\n",
    "\n",
    "#para cargar imágenes desde internet usaremos estas librerías\n",
    "from PIL import Image\n",
    "import requests\n",
    "from io import BytesIO\n",
    "\n",
    "# lo usaremos para reescalar imagen\n",
    "import cv2\n",
    "\n",
    "#!rm -rf ./logs/\n",
    "\n",
    "#nos aseguramos de que estemos con tf 2.0\n",
    "print(tf.__version__)"
   ]
  },
  {
   "cell_type": "markdown",
   "metadata": {},
   "source": [
    "## Importamos el dataset\n",
    "Usaremos 60,000 imágenes para entrenar la red y 10,000 imágenes para evaluar con qué precisión aprendió la red para clasificar las imágenes. Podemos acceder al Fashion MNIST directamente desde TensorFlow. <br><br>Importamos y cargamos los datos de Fashion MNIST directamente desde TensorFlow:"
   ]
  },
  {
   "cell_type": "code",
   "execution_count": 2,
   "metadata": {},
   "outputs": [],
   "source": [
    "fashion_mnist = keras.datasets.fashion_mnist\n",
    "(train_images, train_labels), (test_images, test_labels) = fashion_mnist.load_data()"
   ]
  },
  {
   "cell_type": "code",
   "execution_count": 3,
   "metadata": {},
   "outputs": [
    {
     "data": {
      "image/png": "[encoded data removed]",
      "text/plain": [
       "<Figure size 432x288 with 2 Axes>"
      ]
     },
     "metadata": {
      "needs_background": "light"
     },
     "output_type": "display_data"
    }
   ],
   "source": [
    "plt.figure()\n",
    "plt.imshow(train_images[0])\n",
    "plt.colorbar()\n",
    "plt.grid(False)\n",
    "plt.show()"
   ]
  },
  {
   "cell_type": "markdown",
   "metadata": {},
   "source": [
    "Las etiquetas son una matriz de enteros, que van de 0 a 9. Estas corresponden a la clase de vestimenta que representa la imagen:\n"
   ]
  },
  {
   "cell_type": "code",
   "execution_count": 4,
   "metadata": {},
   "outputs": [],
   "source": [
    "class_names = ['Camiseta', 'Pantalón', 'Suéter', 'Vestido', 'Abrigo',\n",
    "'Sandalia', 'Camisa', 'Zapatilla deportiva', 'Bolso', 'Botines']"
   ]
  },
  {
   "cell_type": "markdown",
   "metadata": {},
   "source": [
    "<br><br>\n",
    "## Exploramos datos"
   ]
  },
  {
   "cell_type": "code",
   "execution_count": 5,
   "metadata": {},
   "outputs": [
    {
     "data": {
      "text/plain": [
       "(28, 28)"
      ]
     },
     "execution_count": 5,
     "metadata": {},
     "output_type": "execute_result"
    }
   ],
   "source": [
    "train_images[0].shape"
   ]
  },
  {
   "cell_type": "code",
   "execution_count": 6,
   "metadata": {},
   "outputs": [
    {
     "data": {
      "text/plain": [
       "(10000, 28, 28)"
      ]
     },
     "execution_count": 6,
     "metadata": {},
     "output_type": "execute_result"
    }
   ],
   "source": [
    "test_images.shape"
   ]
  },
  {
   "cell_type": "code",
   "execution_count": 7,
   "metadata": {},
   "outputs": [
    {
     "data": {
      "text/plain": [
       "(60000,)"
      ]
     },
     "execution_count": 7,
     "metadata": {},
     "output_type": "execute_result"
    }
   ],
   "source": [
    "train_labels.shape"
   ]
  },
  {
   "cell_type": "code",
   "execution_count": 8,
   "metadata": {},
   "outputs": [
    {
     "data": {
      "text/plain": [
       "(10000,)"
      ]
     },
     "execution_count": 8,
     "metadata": {},
     "output_type": "execute_result"
    }
   ],
   "source": [
    "test_labels.shape"
   ]
  },
  {
   "cell_type": "code",
   "execution_count": 9,
   "metadata": {},
   "outputs": [
    {
     "data": {
      "text/plain": [
       "array([9, 2, 1, ..., 8, 1, 5], dtype=uint8)"
      ]
     },
     "execution_count": 9,
     "metadata": {},
     "output_type": "execute_result"
    }
   ],
   "source": [
    "test_labels"
   ]
  },
  {
   "cell_type": "code",
   "execution_count": 10,
   "metadata": {},
   "outputs": [
    {
     "data": {
      "text/plain": [
       "array([[  0,   0,   0,   0,   0,   0,   0,   0,   0,   0,   0,   0,   0,\n",
       "          0,   0,   0,   0,   0,   0,   0,   0,   0,   0,   0,   0,   0,\n",
       "          0,   0],\n",
       "       [  0,   0,   0,   0,   0,   0,   0,   0,   0,   0,   0,   0,   0,\n",
       "          0,   0,   0,   0,   0,   0,   0,   0,   0,   0,   0,   0,   0,\n",
       "          0,   0],\n",
       "       [  0,   0,   0,   0,   0,   0,   0,   0,   0,   0,   0,   0,   0,\n",
       "          0,   0,   0,   0,   0,   0,   0,   0,   0,   0,   0,   0,   0,\n",
       "          0,   0],\n",
       "       [  0,   0,   0,   0,   0,   0,   0,   0,   0,   0,   0,   0,   0,\n",
       "          0,   0,   0,   0,   0,   0,   0,   0,   0,   0,   0,   0,   0,\n",
       "          0,   0],\n",
       "       [  0,   0,   0,   0,   0,   0,   0,   0,   0,   0,   0,   0,   0,\n",
       "          0,   0,   0,   0,   0,   0,   0,   0,   0,   0,   0,   0,   0,\n",
       "          0,   0],\n",
       "       [  0,   0,   0,   0,   0,   0,   0,   0,   0,   0,   0,   0,   0,\n",
       "          0,   0,   0,   0,   0,   0,   0,   0,   0,   0,   0,   0,   0,\n",
       "          0,   0],\n",
       "       [  0,   0,   0,   0,   0,   0,   0,   0,   0,   0,   0,   0,   0,\n",
       "          0,   0,   0,   0,   0,   0,   0,   0,   0,   0,   0,   0,   0,\n",
       "          0,   0],\n",
       "       [  0,   0,   0,   0,   0,   0,   0,   0,   0,   0,   0,   0,   0,\n",
       "          0,   0,   0,   0,   0,   0,   3,   1,   0,   0,   7,   0,  37,\n",
       "          0,   0],\n",
       "       [  0,   0,   0,   0,   0,   0,   0,   0,   0,   0,   0,   0,   0,\n",
       "          1,   2,   0,  27,  84,  11,   0,   0,   0,   0,   0,   0, 119,\n",
       "          0,   0],\n",
       "       [  0,   0,   0,   0,   0,   0,   0,   0,   0,   0,   0,   0,   0,\n",
       "          1,   0,   0,  88, 143, 110,   0,   0,   0,   0,  22,  93, 106,\n",
       "          0,   0],\n",
       "       [  0,   0,   0,   0,   0,   0,   0,   0,   0,   0,   0,   0,   0,\n",
       "          4,   0,  53, 129, 120, 147, 175, 157, 166, 135, 154, 168, 140,\n",
       "          0,   0],\n",
       "       [  0,   0,   0,   0,   0,   0,   0,   0,   0,   0,   0,   0,   2,\n",
       "          0,  11, 137, 130, 128, 160, 176, 159, 167, 178, 149, 151, 144,\n",
       "          0,   0],\n",
       "       [  0,   0,   0,   0,   0,   0,   1,   0,   2,   1,   0,   3,   0,\n",
       "          0, 115, 114, 106, 137, 168, 153, 156, 165, 167, 143, 157, 158,\n",
       "         11,   0],\n",
       "       [  0,   0,   0,   0,   1,   0,   0,   0,   0,   0,   3,   0,   0,\n",
       "         89, 139,  90,  94, 153, 149, 131, 151, 169, 172, 143, 159, 169,\n",
       "         48,   0],\n",
       "       [  0,   0,   0,   0,   0,   0,   2,   4,   1,   0,   0,   0,  98,\n",
       "        136, 110, 109, 110, 162, 135, 144, 149, 159, 167, 144, 158, 169,\n",
       "        119,   0],\n",
       "       [  0,   0,   2,   2,   1,   2,   0,   0,   0,   0,  26, 108, 117,\n",
       "         99, 111, 117, 136, 156, 134, 154, 154, 156, 160, 141, 147, 156,\n",
       "        178,   0],\n",
       "       [  3,   0,   0,   0,   0,   0,   0,  21,  53,  92, 117, 111, 103,\n",
       "        115, 129, 134, 143, 154, 165, 170, 154, 151, 154, 143, 138, 150,\n",
       "        165,  43],\n",
       "       [  0,   0,  23,  54,  65,  76,  85, 118, 128, 123, 111, 113, 118,\n",
       "        127, 125, 139, 133, 136, 160, 140, 155, 161, 144, 155, 172, 161,\n",
       "        189,  62],\n",
       "       [  0,  68,  94,  90, 111, 114, 111, 114, 115, 127, 135, 136, 143,\n",
       "        126, 127, 151, 154, 143, 148, 125, 162, 162, 144, 138, 153, 162,\n",
       "        196,  58],\n",
       "       [ 70, 169, 129, 104,  98, 100,  94,  97,  98, 102, 108, 106, 119,\n",
       "        120, 129, 149, 156, 167, 190, 190, 196, 198, 198, 187, 197, 189,\n",
       "        184,  36],\n",
       "       [ 16, 126, 171, 188, 188, 184, 171, 153, 135, 120, 126, 127, 146,\n",
       "        185, 195, 209, 208, 255, 209, 177, 245, 252, 251, 251, 247, 220,\n",
       "        206,  49],\n",
       "       [  0,   0,   0,  12,  67, 106, 164, 185, 199, 210, 211, 210, 208,\n",
       "        190, 150,  82,   8,   0,   0,   0, 178, 208, 188, 175, 162, 158,\n",
       "        151,  11],\n",
       "       [  0,   0,   0,   0,   0,   0,   0,   0,   0,   0,   0,   0,   0,\n",
       "          0,   0,   0,   0,   0,   0,   0,   0,   0,   0,   0,   0,   0,\n",
       "          0,   0],\n",
       "       [  0,   0,   0,   0,   0,   0,   0,   0,   0,   0,   0,   0,   0,\n",
       "          0,   0,   0,   0,   0,   0,   0,   0,   0,   0,   0,   0,   0,\n",
       "          0,   0],\n",
       "       [  0,   0,   0,   0,   0,   0,   0,   0,   0,   0,   0,   0,   0,\n",
       "          0,   0,   0,   0,   0,   0,   0,   0,   0,   0,   0,   0,   0,\n",
       "          0,   0],\n",
       "       [  0,   0,   0,   0,   0,   0,   0,   0,   0,   0,   0,   0,   0,\n",
       "          0,   0,   0,   0,   0,   0,   0,   0,   0,   0,   0,   0,   0,\n",
       "          0,   0],\n",
       "       [  0,   0,   0,   0,   0,   0,   0,   0,   0,   0,   0,   0,   0,\n",
       "          0,   0,   0,   0,   0,   0,   0,   0,   0,   0,   0,   0,   0,\n",
       "          0,   0],\n",
       "       [  0,   0,   0,   0,   0,   0,   0,   0,   0,   0,   0,   0,   0,\n",
       "          0,   0,   0,   0,   0,   0,   0,   0,   0,   0,   0,   0,   0,\n",
       "          0,   0]], dtype=uint8)"
      ]
     },
     "execution_count": 10,
     "metadata": {},
     "output_type": "execute_result"
    }
   ],
   "source": [
    "test_images[0]"
   ]
  },
  {
   "cell_type": "markdown",
   "metadata": {},
   "source": [
    "<br><br>\n",
    "## Pre - Procesamiento de datos"
   ]
  },
  {
   "cell_type": "code",
   "execution_count": 11,
   "metadata": {},
   "outputs": [
    {
     "data": {
      "image/png": "[encoded data removed]",
      "text/plain": [
       "<Figure size 432x288 with 2 Axes>"
      ]
     },
     "metadata": {
      "needs_background": "light"
     },
     "output_type": "display_data"
    }
   ],
   "source": [
    "train_images = train_images / 255\n",
    "test_images = test_images / 255\n",
    "\n",
    "plt.figure()\n",
    "plt.imshow(train_images[3])\n",
    "plt.colorbar()\n",
    "plt.grid(False)\n",
    "plt.show()"
   ]
  },
  {
   "cell_type": "code",
   "execution_count": 12,
   "metadata": {},
   "outputs": [
    {
     "data": {
      "image/png": "[encoded data removed]",
      "text/plain": [
       "<Figure size 720x720 with 50 Axes>"
      ]
     },
     "metadata": {},
     "output_type": "display_data"
    }
   ],
   "source": [
    "plt.figure(figsize=(10,10))\n",
    "for i in range(50):\n",
    "    plt.subplot(5,10,i+1)\n",
    "    plt.xticks([])\n",
    "    plt.yticks([])\n",
    "    plt.grid(False)\n",
    "    plt.imshow(train_images[i], cmap=plt.cm.binary)\n",
    "    plt.xlabel(class_names[train_labels[i]])\n",
    "plt.show()"
   ]
  },
  {
   "cell_type": "markdown",
   "metadata": {},
   "source": [
    "<br><br>\n",
    "## Configuramos la red neuronal\n",
    "<img src=\"https://cdn-images-1.medium.com/max/1200/1*DpMaU1p85ZSgamwYDkzL-A.png\">"
   ]
  },
  {
   "cell_type": "code",
   "execution_count": 13,
   "metadata": {},
   "outputs": [],
   "source": [
    "model = keras.Sequential([\n",
    "    keras.layers.Flatten(input_shape=(28,28)),\n",
    "    keras.layers.Dense(15, activation='relu'),\n",
    "    keras.layers.Dense(10, activation='softmax')\n",
    "])"
   ]
  },
  {
   "cell_type": "code",
   "execution_count": 14,
   "metadata": {},
   "outputs": [
    {
     "name": "stdout",
     "output_type": "stream",
     "text": [
      "Model: \"sequential\"\n",
      "_________________________________________________________________\n",
      "Layer (type)                 Output Shape              Param #   \n",
      "=================================================================\n",
      "flatten (Flatten)            (None, 784)               0         \n",
      "_________________________________________________________________\n",
      "dense (Dense)                (None, 15)                11775     \n",
      "_________________________________________________________________\n",
      "dense_1 (Dense)              (None, 10)                160       \n",
      "=================================================================\n",
      "Total params: 11,935\n",
      "Trainable params: 11,935\n",
      "Non-trainable params: 0\n",
      "_________________________________________________________________\n"
     ]
    }
   ],
   "source": [
    "model.summary()"
   ]
  },
  {
   "cell_type": "code",
   "execution_count": 15,
   "metadata": {},
   "outputs": [],
   "source": [
    "model.compile(optimizer = 'adam',\n",
    "             loss = 'sparse_categorical_crossentropy',\n",
    "             metrics=['accuracy'])"
   ]
  },
  {
   "cell_type": "markdown",
   "metadata": {},
   "source": [
    "<br><br>\n",
    "## En clasificación\n",
    "### Target con codificación one hot tensorflow -> categorical_crossentropy\n",
    "<br><br>\n",
    "img1->    0   |  0   |   0   |   0   |   0   |   0   |  1   |   0   |  0   |   0 <br>\n",
    "img2->    0   |  0   |   1   |   0   |   0   |   0   |  0   |   0   |  0   |   0 <br>\n",
    "\n",
    "<img src=\"https://i.imgur.com/mtimFxh.png\">\n",
    "<br><br><br><br>\n",
    "\n",
    "#### Target con enteros para representar categoría -> sparse_categorical_crossentropy\n",
    "<br><br>\n",
    "img1-> 2<br>\n",
    "img2-> 6<br>\n",
    "<br><br><br>\n",
    "## En regresiónes \n",
    "### loss='mse'\n",
    "<br><br><br>\n",
    "## Optimizadores\n",
    "<img src=\"https://3qeqpr26caki16dnhd19sv6by6v-wpengine.netdna-ssl.com/wp-content/uploads/2017/05/Comparison-of-Adam-to-Other-Optimization-Algorithms-Training-a-Multilayer-Perceptron.png\" alt=\"Comparación de Adam con otros algoritmos de optimización que entrenan a un perceptrón multicapa\" >\n"
   ]
  },
  {
   "cell_type": "code",
   "execution_count": 17,
   "metadata": {},
   "outputs": [
    {
     "name": "stdout",
     "output_type": "stream",
     "text": [
      "Train on 60000 samples, validate on 10000 samples\n",
      "Epoch 1/50\n",
      "59008/60000 [============================>.] - ETA: 0s - loss: 0.2880 - accuracy: 0.8950\n",
      "Epoch 00001: saving model to checkpoints/check\n",
      "60000/60000 [==============================] - 3s 45us/sample - loss: 0.2882 - accuracy: 0.8951 - val_loss: 0.4211 - val_accuracy: 0.8543\n",
      "Epoch 2/50\n",
      "59328/60000 [============================>.] - ETA: 0s - loss: 0.2865 - accuracy: 0.8961 ETA: 1s - loss: 0.2800 -  - ETA: 1s - loss: 0.2815 - accu - ETA: 0s - los\n",
      "Epoch 00002: saving model to checkpoints/check\n",
      "60000/60000 [==============================] - 3s 46us/sample - loss: 0.2866 - accuracy: 0.8960 - val_loss: 0.4129 - val_accuracy: 0.8593\n",
      "Epoch 3/50\n",
      "59520/60000 [============================>.] - ETA: 0s - loss: 0.2868 - accuracy: 0.8957\n",
      "Epoch 00003: saving model to checkpoints/check\n",
      "60000/60000 [==============================] - 2s 40us/sample - loss: 0.2867 - accuracy: 0.8957 - val_loss: 0.4246 - val_accuracy: 0.8592\n",
      "Epoch 4/50\n",
      "59136/60000 [============================>.] - ETA: 0s - loss: 0.2842 - accuracy: 0.8970 ETA: 0s - loss: 0.2843 - accuracy\n",
      "Epoch 00004: saving model to checkpoints/check\n",
      "60000/60000 [==============================] - 3s 43us/sample - loss: 0.2849 - accuracy: 0.8968 - val_loss: 0.4152 - val_accuracy: 0.8605\n",
      "Epoch 5/50\n",
      "59712/60000 [============================>.] - ETA: 0s - loss: 0.2836 - accuracy: 0.8979 ETA: 0s - l - ETA: 0s - loss: 0.2823 - accuracy: \n",
      "Epoch 00005: saving model to checkpoints/check\n",
      "60000/60000 [==============================] - 2s 38us/sample - loss: 0.2837 - accuracy: 0.8978 - val_loss: 0.4223 - val_accuracy: 0.8601\n",
      "Epoch 6/50\n",
      "59328/60000 [============================>.] - ETA: 0s - loss: 0.2834 - accuracy: 0.8973\n",
      "Epoch 00006: saving model to checkpoints/check\n",
      "60000/60000 [==============================] - 2s 40us/sample - loss: 0.2835 - accuracy: 0.8973 - val_loss: 0.4155 - val_accuracy: 0.8584\n",
      "Epoch 7/50\n",
      "59648/60000 [============================>.] - ETA: 0s - loss: 0.2830 - accuracy: 0.8975\n",
      "Epoch 00007: saving model to checkpoints/check\n",
      "60000/60000 [==============================] - 2s 39us/sample - loss: 0.2828 - accuracy: 0.8976 - val_loss: 0.4182 - val_accuracy: 0.8584\n",
      "Epoch 8/50\n",
      "59840/60000 [============================>.] - ETA: 0s - loss: 0.2820 - accuracy: 0.8977\n",
      "Epoch 00008: saving model to checkpoints/check\n",
      "60000/60000 [==============================] - 3s 46us/sample - loss: 0.2820 - accuracy: 0.8977 - val_loss: 0.4237 - val_accuracy: 0.8579\n",
      "Epoch 9/50\n",
      "58720/60000 [============================>.] - ETA: 0s - loss: 0.2821 - accuracy: 0.8976\n",
      "Epoch 00009: saving model to checkpoints/check\n",
      "60000/60000 [==============================] - 2s 39us/sample - loss: 0.2822 - accuracy: 0.8976 - val_loss: 0.4231 - val_accuracy: 0.8580\n",
      "Epoch 10/50\n",
      "59744/60000 [============================>.] - ETA: 0s - loss: 0.2813 - accuracy: 0.8976\n",
      "Epoch 00010: saving model to checkpoints/check\n",
      "60000/60000 [==============================] - 2s 41us/sample - loss: 0.2810 - accuracy: 0.8977 - val_loss: 0.4264 - val_accuracy: 0.8610\n",
      "Epoch 11/50\n",
      "59168/60000 [============================>.] - ETA: 0s - loss: 0.2801 - accuracy: 0.8989\n",
      "Epoch 00011: saving model to checkpoints/check\n",
      "60000/60000 [==============================] - 3s 42us/sample - loss: 0.2803 - accuracy: 0.8986 - val_loss: 0.4426 - val_accuracy: 0.8539\n",
      "Epoch 12/50\n",
      "59168/60000 [============================>.] - ETA: 0s - loss: 0.2799 - accuracy: 0.8983\n",
      "Epoch 00012: saving model to checkpoints/check\n",
      "60000/60000 [==============================] - 2s 35us/sample - loss: 0.2802 - accuracy: 0.8981 - val_loss: 0.4264 - val_accuracy: 0.8569\n",
      "Epoch 13/50\n",
      "58688/60000 [============================>.] - ETA: 0s - loss: 0.2803 - accuracy: 0.8981 ETA: 1s - loss: 0\n",
      "Epoch 00013: saving model to checkpoints/check\n",
      "60000/60000 [==============================] - 3s 44us/sample - loss: 0.2795 - accuracy: 0.8984 - val_loss: 0.4162 - val_accuracy: 0.8593\n",
      "Epoch 14/50\n",
      "58784/60000 [============================>.] - ETA: 0s - loss: 0.2787 - accuracy: 0.8997\n",
      "Epoch 00014: saving model to checkpoints/check\n",
      "60000/60000 [==============================] - 2s 39us/sample - loss: 0.2783 - accuracy: 0.8998 - val_loss: 0.4258 - val_accuracy: 0.8586\n",
      "Epoch 15/50\n",
      "59776/60000 [============================>.] - ETA: 0s - loss: 0.2776 - accuracy: 0.8996\n",
      "Epoch 00015: saving model to checkpoints/check\n",
      "60000/60000 [==============================] - 3s 42us/sample - loss: 0.2780 - accuracy: 0.8995 - val_loss: 0.4352 - val_accuracy: 0.8573\n",
      "Epoch 16/50\n",
      "58912/60000 [============================>.] - ETA: 0s - loss: 0.2775 - accuracy: 0.8990\n",
      "Epoch 00016: saving model to checkpoints/check\n",
      "60000/60000 [==============================] - 2s 39us/sample - loss: 0.2775 - accuracy: 0.8991 - val_loss: 0.4290 - val_accuracy: 0.8594\n",
      "Epoch 17/50\n",
      "59424/60000 [============================>.] - ETA: 0s - loss: 0.2768 - accuracy: 0.8992\n",
      "Epoch 00017: saving model to checkpoints/check\n",
      "60000/60000 [==============================] - 2s 38us/sample - loss: 0.2768 - accuracy: 0.8992 - val_loss: 0.4431 - val_accuracy: 0.8521\n",
      "Epoch 18/50\n",
      "59744/60000 [============================>.] - ETA: 0s - loss: 0.2764 - accuracy: 0.8994 ETA: 0s\n",
      "Epoch 00018: saving model to checkpoints/check\n",
      "60000/60000 [==============================] - 2s 38us/sample - loss: 0.2764 - accuracy: 0.8995 - val_loss: 0.4411 - val_accuracy: 0.8547\n",
      "Epoch 19/50\n",
      "59680/60000 [============================>.] - ETA: 0s - loss: 0.2747 - accuracy: 0.8996\n",
      "Epoch 00019: saving model to checkpoints/check\n",
      "60000/60000 [==============================] - 2s 39us/sample - loss: 0.2747 - accuracy: 0.8997 - val_loss: 0.4300 - val_accuracy: 0.8586\n",
      "Epoch 20/50\n",
      "59168/60000 [============================>.] - ETA: 0s - loss: 0.2749 - accuracy: 0.9002\n",
      "Epoch 00020: saving model to checkpoints/check\n",
      "60000/60000 [==============================] - 2s 39us/sample - loss: 0.2749 - accuracy: 0.9000 - val_loss: 0.4431 - val_accuracy: 0.8559\n",
      "Epoch 21/50\n",
      "59456/60000 [============================>.] - ETA: 0s - loss: 0.2754 - accuracy: 0.8999\n",
      "Epoch 00021: saving model to checkpoints/check\n",
      "60000/60000 [==============================] - 3s 44us/sample - loss: 0.2755 - accuracy: 0.8999 - val_loss: 0.4422 - val_accuracy: 0.8547\n",
      "Epoch 22/50\n",
      "59776/60000 [============================>.] - ETA: 0s - loss: 0.2745 - accuracy: 0.9003\n",
      "Epoch 00022: saving model to checkpoints/check\n",
      "60000/60000 [==============================] - 2s 41us/sample - loss: 0.2744 - accuracy: 0.9004 - val_loss: 0.4385 - val_accuracy: 0.8600\n",
      "Epoch 23/50\n",
      "59136/60000 [============================>.] - ETA: 0s - loss: 0.2745 - accuracy: 0.9001\n",
      "Epoch 00023: saving model to checkpoints/check\n",
      "60000/60000 [==============================] - 3s 42us/sample - loss: 0.2742 - accuracy: 0.9001 - val_loss: 0.4263 - val_accuracy: 0.8608\n",
      "Epoch 24/50\n",
      "58624/60000 [============================>.] - ETA: 0s - loss: 0.2725 - accuracy: 0.9020 ETA: 0s - l\n",
      "Epoch 00024: saving model to checkpoints/check\n",
      "60000/60000 [==============================] - 2s 40us/sample - loss: 0.2721 - accuracy: 0.9021 - val_loss: 0.4288 - val_accuracy: 0.8625\n",
      "Epoch 25/50\n",
      "58528/60000 [============================>.] - ETA: 0s - loss: 0.2721 - accuracy: 0.9012 ETA: 0s - loss: 0.2698 \n",
      "Epoch 00025: saving model to checkpoints/check\n",
      "60000/60000 [==============================] - 3s 45us/sample - loss: 0.2721 - accuracy: 0.9013 - val_loss: 0.4485 - val_accuracy: 0.8547\n",
      "Epoch 26/50\n",
      "58560/60000 [============================>.] - ETA: 0s - loss: 0.2716 - accuracy: 0.9006 ETA: 1s - ETA: 0s - loss: 0.2724 - accuracy: 0.90\n",
      "Epoch 00026: saving model to checkpoints/check\n",
      "60000/60000 [==============================] - 2s 37us/sample - loss: 0.2721 - accuracy: 0.9003 - val_loss: 0.4491 - val_accuracy: 0.8536\n",
      "Epoch 27/50\n",
      "59200/60000 [============================>.] - ETA: 0s - loss: 0.2719 - accuracy: 0.9008\n",
      "Epoch 00027: saving model to checkpoints/check\n",
      "60000/60000 [==============================] - 2s 36us/sample - loss: 0.2723 - accuracy: 0.9006 - val_loss: 0.4491 - val_accuracy: 0.8559\n",
      "Epoch 28/50\n",
      "58816/60000 [============================>.] - ETA: 0s - loss: 0.2713 - accuracy: 0.9010\n",
      "Epoch 00028: saving model to checkpoints/check\n",
      "60000/60000 [==============================] - 2s 36us/sample - loss: 0.2714 - accuracy: 0.9011 - val_loss: 0.4305 - val_accuracy: 0.8601\n"
     ]
    },
    {
     "name": "stdout",
     "output_type": "stream",
     "text": [
      "Epoch 29/50\n",
      "59520/60000 [============================>.] - ETA: 0s - loss: 0.2696 - accuracy: 0.9022\n",
      "Epoch 00029: saving model to checkpoints/check\n",
      "60000/60000 [==============================] - 2s 37us/sample - loss: 0.2699 - accuracy: 0.9020 - val_loss: 0.4506 - val_accuracy: 0.8533\n",
      "Epoch 30/50\n",
      "59296/60000 [============================>.] - ETA: 0s - loss: 0.2713 - accuracy: 0.9015\n",
      "Epoch 00030: saving model to checkpoints/check\n",
      "60000/60000 [==============================] - 2s 38us/sample - loss: 0.2714 - accuracy: 0.9015 - val_loss: 0.4327 - val_accuracy: 0.8597\n",
      "Epoch 31/50\n",
      "59072/60000 [============================>.] - ETA: 0s - loss: 0.2682 - accuracy: 0.90 - ETA: 0s - loss: 0.2689 - accuracy: 0.9020\n",
      "Epoch 00031: saving model to checkpoints/check\n",
      "60000/60000 [==============================] - 3s 43us/sample - loss: 0.2689 - accuracy: 0.9021 - val_loss: 0.4304 - val_accuracy: 0.8605\n",
      "Epoch 32/50\n",
      "58816/60000 [============================>.] - ETA: 0s - loss: 0.2691 - accuracy: 0.9021 ETA: 0s - loss: 0.2698 - accuracy\n",
      "Epoch 00032: saving model to checkpoints/check\n",
      "60000/60000 [==============================] - 2s 40us/sample - loss: 0.2689 - accuracy: 0.9021 - val_loss: 0.4391 - val_accuracy: 0.8583\n",
      "Epoch 33/50\n",
      "58304/60000 [============================>.] - ETA: 0s - loss: 0.2690 - accuracy: 0.9015\n",
      "Epoch 00033: saving model to checkpoints/check\n",
      "60000/60000 [==============================] - 2s 39us/sample - loss: 0.2690 - accuracy: 0.9016 - val_loss: 0.4363 - val_accuracy: 0.8591\n",
      "Epoch 34/50\n",
      "59200/60000 [============================>.] - ETA: 0s - loss: 0.2683 - accuracy: 0.9030\n",
      "Epoch 00034: saving model to checkpoints/check\n",
      "60000/60000 [==============================] - 2s 33us/sample - loss: 0.2683 - accuracy: 0.9031 - val_loss: 0.4449 - val_accuracy: 0.8569\n",
      "Epoch 35/50\n",
      "59552/60000 [============================>.] - ETA: 0s - loss: 0.2677 - accuracy: 0.9028 ETA: 0s - loss: 0.267\n",
      "Epoch 00035: saving model to checkpoints/check\n",
      "60000/60000 [==============================] - 2s 35us/sample - loss: 0.2677 - accuracy: 0.9027 - val_loss: 0.4603 - val_accuracy: 0.8512\n",
      "Epoch 36/50\n",
      "59072/60000 [============================>.] - ETA: 0s - loss: 0.2675 - accuracy: 0.9035\n",
      "Epoch 00036: saving model to checkpoints/check\n",
      "60000/60000 [==============================] - 2s 35us/sample - loss: 0.2671 - accuracy: 0.9036 - val_loss: 0.4606 - val_accuracy: 0.8563\n",
      "Epoch 37/50\n",
      "59424/60000 [============================>.] - ETA: 0s - loss: 0.2670 - accuracy: 0.9034\n",
      "Epoch 00037: saving model to checkpoints/check\n",
      "60000/60000 [==============================] - 2s 36us/sample - loss: 0.2670 - accuracy: 0.9035 - val_loss: 0.4425 - val_accuracy: 0.8596\n",
      "Epoch 38/50\n",
      "58752/60000 [============================>.] - ETA: 0s - loss: 0.2676 - accuracy: 0.9027 ETA: 0s - loss: 0.2681 - \n",
      "Epoch 00038: saving model to checkpoints/check\n",
      "60000/60000 [==============================] - 2s 34us/sample - loss: 0.2668 - accuracy: 0.9030 - val_loss: 0.4445 - val_accuracy: 0.8591\n",
      "Epoch 39/50\n",
      "59360/60000 [============================>.] - ETA: 0s - loss: 0.2657 - accuracy: 0.9036\n",
      "Epoch 00039: saving model to checkpoints/check\n",
      "60000/60000 [==============================] - 2s 34us/sample - loss: 0.2656 - accuracy: 0.9038 - val_loss: 0.4529 - val_accuracy: 0.8570\n",
      "Epoch 40/50\n",
      "58848/60000 [============================>.] - ETA: 0s - loss: 0.2660 - accuracy: 0.9033\n",
      "Epoch 00040: saving model to checkpoints/check\n",
      "60000/60000 [==============================] - 2s 34us/sample - loss: 0.2656 - accuracy: 0.9034 - val_loss: 0.4443 - val_accuracy: 0.8587\n",
      "Epoch 41/50\n",
      "59008/60000 [============================>.] - ETA: 0s - loss: 0.2665 - accuracy: 0.9037\n",
      "Epoch 00041: saving model to checkpoints/check\n",
      "60000/60000 [==============================] - 2s 35us/sample - loss: 0.2669 - accuracy: 0.9037 - val_loss: 0.4384 - val_accuracy: 0.8588\n",
      "Epoch 42/50\n",
      "59072/60000 [============================>.] - ETA: 0s - loss: 0.2650 - accuracy: 0.9031 ETA: 1s - loss: 0.2667 - accuracy\n",
      "Epoch 00042: saving model to checkpoints/check\n",
      "60000/60000 [==============================] - 2s 38us/sample - loss: 0.2646 - accuracy: 0.9032 - val_loss: 0.4517 - val_accuracy: 0.8579\n",
      "Epoch 43/50\n",
      "14176/60000 [======>.......................] - ETA: 1s - loss: 0.2702 - accuracy: 0.9007"
     ]
    },
    {
     "ename": "KeyboardInterrupt",
     "evalue": "",
     "output_type": "error",
     "traceback": [
      "\u001b[0;31m---------------------------------------------------------------------------\u001b[0m",
      "\u001b[0;31mKeyboardInterrupt\u001b[0m                         Traceback (most recent call last)",
      "\u001b[0;32m<ipython-input-17-0ef9305dff16>\u001b[0m in \u001b[0;36m<module>\u001b[0;34m\u001b[0m\n\u001b[1;32m      8\u001b[0m           \u001b[0mepochs\u001b[0m\u001b[0;34m=\u001b[0m\u001b[0;36m50\u001b[0m\u001b[0;34m,\u001b[0m\u001b[0;34m\u001b[0m\u001b[0;34m\u001b[0m\u001b[0m\n\u001b[1;32m      9\u001b[0m           \u001b[0mvalidation_data\u001b[0m \u001b[0;34m=\u001b[0m \u001b[0;34m(\u001b[0m\u001b[0mtest_images\u001b[0m\u001b[0;34m,\u001b[0m\u001b[0mtest_labels\u001b[0m\u001b[0;34m)\u001b[0m\u001b[0;34m,\u001b[0m\u001b[0;34m\u001b[0m\u001b[0;34m\u001b[0m\u001b[0m\n\u001b[0;32m---> 10\u001b[0;31m           callbacks = [cp_callbacks, tensorboard_callback])\n\u001b[0m\u001b[1;32m     11\u001b[0m \u001b[0;34m\u001b[0m\u001b[0m\n\u001b[1;32m     12\u001b[0m \u001b[0;31m# luego ejecuar en terminal\u001b[0m\u001b[0;34m\u001b[0m\u001b[0;34m\u001b[0m\u001b[0;34m\u001b[0m\u001b[0m\n",
      "\u001b[0;32m~/anaconda3/lib/python3.7/site-packages/tensorflow/python/keras/engine/training.py\u001b[0m in \u001b[0;36mfit\u001b[0;34m(self, x, y, batch_size, epochs, verbose, callbacks, validation_split, validation_data, shuffle, class_weight, sample_weight, initial_epoch, steps_per_epoch, validation_steps, validation_freq, max_queue_size, workers, use_multiprocessing, **kwargs)\u001b[0m\n\u001b[1;32m    871\u001b[0m           \u001b[0mvalidation_steps\u001b[0m\u001b[0;34m=\u001b[0m\u001b[0mvalidation_steps\u001b[0m\u001b[0;34m,\u001b[0m\u001b[0;34m\u001b[0m\u001b[0;34m\u001b[0m\u001b[0m\n\u001b[1;32m    872\u001b[0m           \u001b[0mvalidation_freq\u001b[0m\u001b[0;34m=\u001b[0m\u001b[0mvalidation_freq\u001b[0m\u001b[0;34m,\u001b[0m\u001b[0;34m\u001b[0m\u001b[0;34m\u001b[0m\u001b[0m\n\u001b[0;32m--> 873\u001b[0;31m           steps_name='steps_per_epoch')\n\u001b[0m\u001b[1;32m    874\u001b[0m \u001b[0;34m\u001b[0m\u001b[0m\n\u001b[1;32m    875\u001b[0m   def evaluate(self,\n",
      "\u001b[0;32m~/anaconda3/lib/python3.7/site-packages/tensorflow/python/keras/engine/training_arrays.py\u001b[0m in \u001b[0;36mmodel_iteration\u001b[0;34m(model, inputs, targets, sample_weights, batch_size, epochs, verbose, callbacks, val_inputs, val_targets, val_sample_weights, shuffle, initial_epoch, steps_per_epoch, validation_steps, validation_freq, mode, validation_in_fit, prepared_feed_values_from_dataset, steps_name, **kwargs)\u001b[0m\n\u001b[1;32m    350\u001b[0m \u001b[0;34m\u001b[0m\u001b[0m\n\u001b[1;32m    351\u001b[0m         \u001b[0;31m# Get outputs.\u001b[0m\u001b[0;34m\u001b[0m\u001b[0;34m\u001b[0m\u001b[0;34m\u001b[0m\u001b[0m\n\u001b[0;32m--> 352\u001b[0;31m         \u001b[0mbatch_outs\u001b[0m \u001b[0;34m=\u001b[0m \u001b[0mf\u001b[0m\u001b[0;34m(\u001b[0m\u001b[0mins_batch\u001b[0m\u001b[0;34m)\u001b[0m\u001b[0;34m\u001b[0m\u001b[0;34m\u001b[0m\u001b[0m\n\u001b[0m\u001b[1;32m    353\u001b[0m         \u001b[0;32mif\u001b[0m \u001b[0;32mnot\u001b[0m \u001b[0misinstance\u001b[0m\u001b[0;34m(\u001b[0m\u001b[0mbatch_outs\u001b[0m\u001b[0;34m,\u001b[0m \u001b[0mlist\u001b[0m\u001b[0;34m)\u001b[0m\u001b[0;34m:\u001b[0m\u001b[0;34m\u001b[0m\u001b[0;34m\u001b[0m\u001b[0m\n\u001b[1;32m    354\u001b[0m           \u001b[0mbatch_outs\u001b[0m \u001b[0;34m=\u001b[0m \u001b[0;34m[\u001b[0m\u001b[0mbatch_outs\u001b[0m\u001b[0;34m]\u001b[0m\u001b[0;34m\u001b[0m\u001b[0;34m\u001b[0m\u001b[0m\n",
      "\u001b[0;32m~/anaconda3/lib/python3.7/site-packages/tensorflow/python/keras/backend.py\u001b[0m in \u001b[0;36m__call__\u001b[0;34m(self, inputs)\u001b[0m\n\u001b[1;32m   3215\u001b[0m         \u001b[0mvalue\u001b[0m \u001b[0;34m=\u001b[0m \u001b[0mmath_ops\u001b[0m\u001b[0;34m.\u001b[0m\u001b[0mcast\u001b[0m\u001b[0;34m(\u001b[0m\u001b[0mvalue\u001b[0m\u001b[0;34m,\u001b[0m \u001b[0mtensor\u001b[0m\u001b[0;34m.\u001b[0m\u001b[0mdtype\u001b[0m\u001b[0;34m)\u001b[0m\u001b[0;34m\u001b[0m\u001b[0;34m\u001b[0m\u001b[0m\n\u001b[1;32m   3216\u001b[0m       \u001b[0mconverted_inputs\u001b[0m\u001b[0;34m.\u001b[0m\u001b[0mappend\u001b[0m\u001b[0;34m(\u001b[0m\u001b[0mvalue\u001b[0m\u001b[0;34m)\u001b[0m\u001b[0;34m\u001b[0m\u001b[0;34m\u001b[0m\u001b[0m\n\u001b[0;32m-> 3217\u001b[0;31m     \u001b[0moutputs\u001b[0m \u001b[0;34m=\u001b[0m \u001b[0mself\u001b[0m\u001b[0;34m.\u001b[0m\u001b[0m_graph_fn\u001b[0m\u001b[0;34m(\u001b[0m\u001b[0;34m*\u001b[0m\u001b[0mconverted_inputs\u001b[0m\u001b[0;34m)\u001b[0m\u001b[0;34m\u001b[0m\u001b[0;34m\u001b[0m\u001b[0m\n\u001b[0m\u001b[1;32m   3218\u001b[0m     return nest.pack_sequence_as(self._outputs_structure,\n\u001b[1;32m   3219\u001b[0m                                  [x.numpy() for x in outputs])\n",
      "\u001b[0;32m~/anaconda3/lib/python3.7/site-packages/tensorflow/python/eager/function.py\u001b[0m in \u001b[0;36m__call__\u001b[0;34m(self, *args, **kwargs)\u001b[0m\n\u001b[1;32m    556\u001b[0m       raise TypeError(\"Keyword arguments {} unknown. Expected {}.\".format(\n\u001b[1;32m    557\u001b[0m           list(kwargs.keys()), list(self._arg_keywords)))\n\u001b[0;32m--> 558\u001b[0;31m     \u001b[0;32mreturn\u001b[0m \u001b[0mself\u001b[0m\u001b[0;34m.\u001b[0m\u001b[0m_call_flat\u001b[0m\u001b[0;34m(\u001b[0m\u001b[0margs\u001b[0m\u001b[0;34m)\u001b[0m\u001b[0;34m\u001b[0m\u001b[0;34m\u001b[0m\u001b[0m\n\u001b[0m\u001b[1;32m    559\u001b[0m \u001b[0;34m\u001b[0m\u001b[0m\n\u001b[1;32m    560\u001b[0m   \u001b[0;32mdef\u001b[0m \u001b[0m_filtered_call\u001b[0m\u001b[0;34m(\u001b[0m\u001b[0mself\u001b[0m\u001b[0;34m,\u001b[0m \u001b[0margs\u001b[0m\u001b[0;34m,\u001b[0m \u001b[0mkwargs\u001b[0m\u001b[0;34m)\u001b[0m\u001b[0;34m:\u001b[0m\u001b[0;34m\u001b[0m\u001b[0;34m\u001b[0m\u001b[0m\n",
      "\u001b[0;32m~/anaconda3/lib/python3.7/site-packages/tensorflow/python/eager/function.py\u001b[0m in \u001b[0;36m_call_flat\u001b[0;34m(self, args)\u001b[0m\n\u001b[1;32m    625\u001b[0m     \u001b[0;31m# Only need to override the gradient in graph mode and when we have outputs.\u001b[0m\u001b[0;34m\u001b[0m\u001b[0;34m\u001b[0m\u001b[0;34m\u001b[0m\u001b[0m\n\u001b[1;32m    626\u001b[0m     \u001b[0;32mif\u001b[0m \u001b[0mcontext\u001b[0m\u001b[0;34m.\u001b[0m\u001b[0mexecuting_eagerly\u001b[0m\u001b[0;34m(\u001b[0m\u001b[0;34m)\u001b[0m \u001b[0;32mor\u001b[0m \u001b[0;32mnot\u001b[0m \u001b[0mself\u001b[0m\u001b[0;34m.\u001b[0m\u001b[0moutputs\u001b[0m\u001b[0;34m:\u001b[0m\u001b[0;34m\u001b[0m\u001b[0;34m\u001b[0m\u001b[0m\n\u001b[0;32m--> 627\u001b[0;31m       \u001b[0moutputs\u001b[0m \u001b[0;34m=\u001b[0m \u001b[0mself\u001b[0m\u001b[0;34m.\u001b[0m\u001b[0m_inference_function\u001b[0m\u001b[0;34m.\u001b[0m\u001b[0mcall\u001b[0m\u001b[0;34m(\u001b[0m\u001b[0mctx\u001b[0m\u001b[0;34m,\u001b[0m \u001b[0margs\u001b[0m\u001b[0;34m)\u001b[0m\u001b[0;34m\u001b[0m\u001b[0;34m\u001b[0m\u001b[0m\n\u001b[0m\u001b[1;32m    628\u001b[0m     \u001b[0;32melse\u001b[0m\u001b[0;34m:\u001b[0m\u001b[0;34m\u001b[0m\u001b[0;34m\u001b[0m\u001b[0m\n\u001b[1;32m    629\u001b[0m       \u001b[0mself\u001b[0m\u001b[0;34m.\u001b[0m\u001b[0m_register_gradient\u001b[0m\u001b[0;34m(\u001b[0m\u001b[0;34m)\u001b[0m\u001b[0;34m\u001b[0m\u001b[0;34m\u001b[0m\u001b[0m\n",
      "\u001b[0;32m~/anaconda3/lib/python3.7/site-packages/tensorflow/python/eager/function.py\u001b[0m in \u001b[0;36mcall\u001b[0;34m(self, ctx, args)\u001b[0m\n\u001b[1;32m    413\u001b[0m             attrs=(\"executor_type\", executor_type,\n\u001b[1;32m    414\u001b[0m                    \"config_proto\", config),\n\u001b[0;32m--> 415\u001b[0;31m             ctx=ctx)\n\u001b[0m\u001b[1;32m    416\u001b[0m       \u001b[0;31m# Replace empty list with None\u001b[0m\u001b[0;34m\u001b[0m\u001b[0;34m\u001b[0m\u001b[0;34m\u001b[0m\u001b[0m\n\u001b[1;32m    417\u001b[0m       \u001b[0moutputs\u001b[0m \u001b[0;34m=\u001b[0m \u001b[0moutputs\u001b[0m \u001b[0;32mor\u001b[0m \u001b[0;32mNone\u001b[0m\u001b[0;34m\u001b[0m\u001b[0;34m\u001b[0m\u001b[0m\n",
      "\u001b[0;32m~/anaconda3/lib/python3.7/site-packages/tensorflow/python/eager/execute.py\u001b[0m in \u001b[0;36mquick_execute\u001b[0;34m(op_name, num_outputs, inputs, attrs, ctx, name)\u001b[0m\n\u001b[1;32m     58\u001b[0m     tensors = pywrap_tensorflow.TFE_Py_Execute(ctx._handle, device_name,\n\u001b[1;32m     59\u001b[0m                                                \u001b[0mop_name\u001b[0m\u001b[0;34m,\u001b[0m \u001b[0minputs\u001b[0m\u001b[0;34m,\u001b[0m \u001b[0mattrs\u001b[0m\u001b[0;34m,\u001b[0m\u001b[0;34m\u001b[0m\u001b[0;34m\u001b[0m\u001b[0m\n\u001b[0;32m---> 60\u001b[0;31m                                                num_outputs)\n\u001b[0m\u001b[1;32m     61\u001b[0m   \u001b[0;32mexcept\u001b[0m \u001b[0mcore\u001b[0m\u001b[0;34m.\u001b[0m\u001b[0m_NotOkStatusException\u001b[0m \u001b[0;32mas\u001b[0m \u001b[0me\u001b[0m\u001b[0;34m:\u001b[0m\u001b[0;34m\u001b[0m\u001b[0;34m\u001b[0m\u001b[0m\n\u001b[1;32m     62\u001b[0m     \u001b[0;32mif\u001b[0m \u001b[0mname\u001b[0m \u001b[0;32mis\u001b[0m \u001b[0;32mnot\u001b[0m \u001b[0;32mNone\u001b[0m\u001b[0;34m:\u001b[0m\u001b[0;34m\u001b[0m\u001b[0;34m\u001b[0m\u001b[0m\n",
      "\u001b[0;31mKeyboardInterrupt\u001b[0m: "
     ]
    }
   ],
   "source": [
    "checkpoint_path = \"checkpoints/check\";\n",
    "log_dir=\"logs/fit/\" + datetime.datetime.now().strftime(\"%Y%m%d-%H%M%S\")\n",
    "cp_callbacks = tf.keras.callbacks.ModelCheckpoint(checkpoint_path, save_weights_only=True, verbose=1)\n",
    "tensorboard_callback = tf.keras.callbacks.TensorBoard(log_dir, histogram_freq=1)\n",
    "\n",
    "model.fit(train_images,\n",
    "          train_labels, \n",
    "          epochs=50,\n",
    "          validation_data = (test_images,test_labels),\n",
    "          callbacks = [cp_callbacks, tensorboard_callback])\n",
    "\n",
    "# luego ejecuar en terminal \n",
    "# tensorboard --logdir logs/fit"
   ]
  },
  {
   "cell_type": "code",
   "execution_count": null,
   "metadata": {},
   "outputs": [],
   "source": [
    "test_loss, test_acc = model.evaluate(test_images, test_labels)\n",
    "print(\"Precisión -> \", test_acc)"
   ]
  },
  {
   "cell_type": "markdown",
   "metadata": {},
   "source": [
    "<br><br>\n",
    "## Hagamos predicciones"
   ]
  },
  {
   "cell_type": "code",
   "execution_count": null,
   "metadata": {},
   "outputs": [],
   "source": [
    "predictions = model.predict(test_images)"
   ]
  },
  {
   "cell_type": "code",
   "execution_count": null,
   "metadata": {},
   "outputs": [],
   "source": [
    "predictions[0]"
   ]
  },
  {
   "cell_type": "code",
   "execution_count": null,
   "metadata": {},
   "outputs": [],
   "source": [
    "np.argmax(predictions[0])\n"
   ]
  },
  {
   "cell_type": "markdown",
   "metadata": {},
   "source": [
    "<br><br>\n",
    "## Probemos el modelo con una imagen externa y ajena al dataset \n",
    "<br><br>\n",
    "**Muy importante:**<br><br> La Imagen a comprobar debe ser ingresada luego de recibir el mismo procesamiento que recibieron las imágenes de entrenamiento"
   ]
  },
  {
   "cell_type": "code",
   "execution_count": null,
   "metadata": {},
   "outputs": [],
   "source": [
    "# cargamos una imagen a partir de una url\n",
    "\n",
    "response = requests.get(\"https://www.turopalaboral.com/2893-home_default/camiseta-s6600-manga-corta-pack-3-unidades-workteam.jpg\")\n",
    "img = Image.open(BytesIO(response.content))\n",
    "\n",
    "np_img = np.array(img)\n",
    "\n",
    "# mostramos la imagen\n",
    "plt.figure()\n",
    "plt.imshow(np_img)\n",
    "plt.colorbar()\n",
    "plt.grid(False)\n",
    "plt.show()\n",
    "\n",
    "#invertimos la imagen\n",
    "np_img = 255 - np_img\n",
    "\n",
    "# mostramos la imagen\n",
    "plt.figure()\n",
    "plt.imshow(np_img)\n",
    "plt.colorbar()\n",
    "plt.grid(False)\n",
    "plt.show()"
   ]
  },
  {
   "cell_type": "code",
   "execution_count": null,
   "metadata": {},
   "outputs": [],
   "source": [
    "np_img.shape"
   ]
  },
  {
   "cell_type": "code",
   "execution_count": null,
   "metadata": {},
   "outputs": [],
   "source": [
    "# observamos que la imagen importada tiene 3 dimensiones, \n",
    "# porque es a color.\n",
    "# por eso declaramos esta función para convertir la imagen a color a escala de grises\n",
    "def rgb2gray(rgb):\n",
    "    return np.dot(rgb[...,:3], [0.333, 0.333, 0.333])"
   ]
  },
  {
   "cell_type": "code",
   "execution_count": null,
   "metadata": {},
   "outputs": [],
   "source": [
    "bw_image = rgb2gray(np_img)"
   ]
  },
  {
   "cell_type": "code",
   "execution_count": null,
   "metadata": {},
   "outputs": [],
   "source": [
    "# mostramos la imagen\n",
    "plt.figure()\n",
    "plt.imshow(np_img)\n",
    "plt.colorbar()\n",
    "plt.grid(False)\n",
    "plt.show()"
   ]
  },
  {
   "cell_type": "code",
   "execution_count": null,
   "metadata": {},
   "outputs": [],
   "source": [
    "bw_image.shape"
   ]
  },
  {
   "cell_type": "code",
   "execution_count": null,
   "metadata": {},
   "outputs": [],
   "source": [
    "#ahora a la imagen en blanco y negro debemos redimensionarla a 28x28\n",
    "res = cv2.resize(bw_image, dsize=(28, 28), interpolation=cv2.INTER_CUBIC)"
   ]
  },
  {
   "cell_type": "code",
   "execution_count": null,
   "metadata": {},
   "outputs": [],
   "source": [
    "# mostramos la imagen\n",
    "plt.figure()\n",
    "plt.imshow(res)\n",
    "plt.colorbar()\n",
    "plt.grid(False)\n",
    "plt.show()"
   ]
  },
  {
   "cell_type": "code",
   "execution_count": null,
   "metadata": {},
   "outputs": [],
   "source": [
    "res = res / 255\n",
    "\n",
    "# mostramos la imagen\n",
    "plt.figure()\n",
    "plt.imshow(res)\n",
    "plt.colorbar()\n",
    "plt.grid(False)\n",
    "plt.show()"
   ]
  },
  {
   "cell_type": "code",
   "execution_count": null,
   "metadata": {},
   "outputs": [],
   "source": [
    "x = np.zeros((1,28,28))\n",
    "x.shape"
   ]
  },
  {
   "cell_type": "code",
   "execution_count": null,
   "metadata": {},
   "outputs": [],
   "source": [
    "x[0] = np.array(res)"
   ]
  },
  {
   "cell_type": "code",
   "execution_count": null,
   "metadata": {},
   "outputs": [],
   "source": [
    "predictions = model.predict(x)\n",
    "predictions[0]"
   ]
  },
  {
   "cell_type": "code",
   "execution_count": null,
   "metadata": {},
   "outputs": [],
   "source": [
    "index = np.arange(len(class_names))\n",
    "plt.bar(index, predictions[0])\n",
    "plt.ylabel('Confiabilidad', fontsize=15)\n",
    "plt.xticks(index, class_names, fontsize=15, rotation=90)\n",
    "plt.title('Predicciones')\n",
    "plt.show()"
   ]
  },
  {
   "cell_type": "markdown",
   "metadata": {},
   "source": [
    "<br><br>\n",
    "## Creamos un nuevo modelo y lo probamos antes de entrenarlo"
   ]
  },
  {
   "cell_type": "code",
   "execution_count": null,
   "metadata": {},
   "outputs": [],
   "source": [
    "model2 = keras.Sequential([\n",
    "    keras.layers.Flatten(input_shape=(28, 28)),\n",
    "    keras.layers.Dense(15, activation='relu'),\n",
    "    keras.layers.Dense(10, activation='softmax')\n",
    "])\n",
    "\n",
    "model2.compile(optimizer='adam', loss='sparse_categorical_crossentropy', metrics=['accuracy'])"
   ]
  },
  {
   "cell_type": "code",
   "execution_count": null,
   "metadata": {},
   "outputs": [],
   "source": [
    "loss, acc = model2.evaluate(test_images, test_labels)"
   ]
  },
  {
   "cell_type": "code",
   "execution_count": null,
   "metadata": {},
   "outputs": [],
   "source": [
    "acc"
   ]
  },
  {
   "cell_type": "markdown",
   "metadata": {},
   "source": [
    "### Como vemos el rendimiento es pésimo\n",
    "### Cargamos los pesos grabados anteriormente y probamos nuevamente"
   ]
  },
  {
   "cell_type": "code",
   "execution_count": null,
   "metadata": {},
   "outputs": [],
   "source": [
    "model2.load_weights(checkpoint_path)\n",
    "loss, acc = model2.evaluate(test_images, test_labels)\n",
    "acc"
   ]
  },
  {
   "cell_type": "code",
   "execution_count": null,
   "metadata": {},
   "outputs": [],
   "source": []
  }
 ],
 "metadata": {
  "kernelspec": {
   "display_name": "Python 3",
   "language": "python",
   "name": "python3"
  },
  "language_info": {
   "codemirror_mode": {
    "name": "ipython",
    "version": 3
   },
   "file_extension": ".py",
   "mimetype": "text/x-python",
   "name": "python",
   "nbconvert_exporter": "python",
   "pygments_lexer": "ipython3",
   "version": "3.8.8"
  }
 },
 "nbformat": 4,
 "nbformat_minor": 2
}
